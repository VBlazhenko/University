{
  "nbformat": 4,
  "nbformat_minor": 0,
  "metadata": {
    "kernelspec": {
      "display_name": "Python 3",
      "language": "python",
      "name": "python3"
    },
    "language_info": {
      "codemirror_mode": {
        "name": "ipython",
        "version": 3
      },
      "file_extension": ".py",
      "mimetype": "text/x-python",
      "name": "python",
      "nbconvert_exporter": "python",
      "pygments_lexer": "ipython3",
      "version": "3.8.5"
    },
    "colab": {
      "name": "NN_01_LogisticRegression_solution.ipynb",
      "provenance": [],
      "collapsed_sections": [],
      "include_colab_link": true
    }
  },
  "cells": [
    {
      "cell_type": "markdown",
      "metadata": {
        "id": "view-in-github",
        "colab_type": "text"
      },
      "source": [
        "<a href=\"https://colab.research.google.com/github/VBlazhenko/Algorithms-must-know/blob/main/NN_01_LogisticRegression_solution.ipynb\" target=\"_parent\"><img src=\"https://colab.research.google.com/assets/colab-badge.svg\" alt=\"Open In Colab\"/></a>"
      ]
    },
    {
      "cell_type": "markdown",
      "metadata": {
        "id": "WvzksjsFZsDW"
      },
      "source": [
        "# Logistic Regression with Keras\n",
        "\n",
        "Welcome to your (possibly) first Machine Learning tutorial.\n",
        "\n",
        "We will be using the Logistic Regression (a one-layer Neural Network) to recognise hand written digits in images.\n",
        "\n",
        "The MNIST database of handwritten digits has been a benchmark in Computer Vision for many years. Although it is considered \"solved\" by many today, new algorithms are still tested on it first, and it still serves as a good learning tool.\n",
        "\n",
        "More information on MNIST including results from prominent researchers in the field who developed a variety of models to improve classification accuracy:\n",
        "\n",
        "> http://yann.lecun.com/exdb/mnist/\n",
        "\n",
        "Quick intro to Jupyter controls:\n",
        "\n",
        "> Select a cell and Ctrl+Enter - this will execute the selected cell. For more shortcuts, go to Help -> Keyboard Shortcuts\n",
        "\n",
        "> Go through each cell and execute it to see the result\n",
        "\n",
        "Useful links:\n",
        "\n",
        "> https://en.wikipedia.org/wiki/Logistic_regression"
      ]
    },
    {
      "cell_type": "markdown",
      "metadata": {
        "id": "5PuZNFv5ZsDc"
      },
      "source": [
        "## Import useful code packages"
      ]
    },
    {
      "cell_type": "code",
      "metadata": {
        "colab": {
          "base_uri": "https://localhost:8080/",
          "height": 339
        },
        "id": "46nOa_-BZsDd",
        "outputId": "9b9e1d39-f0c9-4830-a4fb-5744fee87331"
      },
      "source": [
        "# Standard scientific Python imports\n",
        "import matplotlib.pyplot as plt\n",
        "import numpy as np\n",
        "\n",
        "# Import Keras model layers\n",
        "import tensorflow as tf\n",
        "import keras\n",
        "from keras.datasets import mnist\n",
        "from keras.models import Sequential \n",
        "from keras.layers import Dense, Activation\n"
      ],
      "execution_count": 22,
      "outputs": [
        {
          "output_type": "error",
          "ename": "ImportError",
          "evalue": "ignored",
          "traceback": [
            "\u001b[0;31m---------------------------------------------------------------------------\u001b[0m",
            "\u001b[0;31mImportError\u001b[0m                               Traceback (most recent call last)",
            "\u001b[0;32m<ipython-input-22-dbe0470f30ad>\u001b[0m in \u001b[0;36m<module>\u001b[0;34m()\u001b[0m\n\u001b[1;32m      8\u001b[0m \u001b[0;32mfrom\u001b[0m \u001b[0mkeras\u001b[0m\u001b[0;34m.\u001b[0m\u001b[0mdatasets\u001b[0m \u001b[0;32mimport\u001b[0m \u001b[0mmnist\u001b[0m\u001b[0;34m\u001b[0m\u001b[0;34m\u001b[0m\u001b[0m\n\u001b[1;32m      9\u001b[0m \u001b[0;32mfrom\u001b[0m \u001b[0mkeras\u001b[0m\u001b[0;34m.\u001b[0m\u001b[0mmodels\u001b[0m \u001b[0;32mimport\u001b[0m \u001b[0mSequential\u001b[0m\u001b[0;34m\u001b[0m\u001b[0;34m\u001b[0m\u001b[0m\n\u001b[0;32m---> 10\u001b[0;31m \u001b[0;32mfrom\u001b[0m \u001b[0mkeras\u001b[0m\u001b[0;34m.\u001b[0m\u001b[0mlayers\u001b[0m \u001b[0;32mimport\u001b[0m \u001b[0mDense\u001b[0m\u001b[0;34m,\u001b[0m \u001b[0mActivation\u001b[0m\u001b[0;34m,\u001b[0m \u001b[0mSDG\u001b[0m\u001b[0;34m\u001b[0m\u001b[0;34m\u001b[0m\u001b[0m\n\u001b[0m",
            "\u001b[0;31mImportError\u001b[0m: cannot import name 'SDG' from 'keras.layers' (/usr/local/lib/python3.7/dist-packages/keras/layers/__init__.py)",
            "",
            "\u001b[0;31m---------------------------------------------------------------------------\u001b[0;32m\nNOTE: If your import is failing due to a missing package, you can\nmanually install dependencies using either !pip or !apt.\n\nTo view examples of installing some common dependencies, click the\n\"Open Examples\" button below.\n\u001b[0;31m---------------------------------------------------------------------------\u001b[0m\n"
          ],
          "errorDetails": {
            "actions": [
              {
                "action": "open_url",
                "actionText": "Open Examples",
                "url": "/notebooks/snippets/importing_libraries.ipynb"
              }
            ]
          }
        }
      ]
    },
    {
      "cell_type": "markdown",
      "metadata": {
        "id": "iU6nn9E3ZsDf"
      },
      "source": [
        "## Load the MNIST Dataset"
      ]
    },
    {
      "cell_type": "code",
      "metadata": {
        "colab": {
          "base_uri": "https://localhost:8080/"
        },
        "id": "Q17yv3iJZsDg",
        "outputId": "53792ad6-d48a-4d18-9992-06115f7921e3"
      },
      "source": [
        "# download and load the MNIST dataset - the file will be downloaded only once and saved in the Anaconda environment\n",
        "(X_train_raw, y_train_raw), (X_test_raw, y_test_raw) = keras.datasets.mnist.load_data()\n",
        "\n",
        "# Print shapes and bounds\n",
        "print('Train set:')\n",
        "print('Sizes:', X_train_raw.shape, y_train_raw.shape)\n",
        "\n",
        "print('Test set:')\n",
        "print('Sizes:', X_test_raw.shape, y_test_raw.shape)\n",
        "\n",
        "print('Image values (min to max):', np.min(X_train_raw), 'to', np.max(X_train_raw))\n",
        "print('Label values (min to max):', np.min(y_train_raw), 'to', np.max(y_train_raw))"
      ],
      "execution_count": 7,
      "outputs": [
        {
          "output_type": "stream",
          "name": "stdout",
          "text": [
            "Downloading data from https://storage.googleapis.com/tensorflow/tf-keras-datasets/mnist.npz\n",
            "11493376/11490434 [==============================] - 0s 0us/step\n",
            "11501568/11490434 [==============================] - 0s 0us/step\n",
            "Train set:\n",
            "Sizes: (60000, 28, 28) (60000,)\n",
            "Test set:\n",
            "Sizes: (10000, 28, 28) (10000,)\n",
            "Image values (min to max): 0 to 255\n",
            "Label values (min to max): 0 to 9\n"
          ]
        }
      ]
    },
    {
      "cell_type": "markdown",
      "metadata": {
        "id": "XzhWRwm1ZsDh"
      },
      "source": [
        "## Normalisation\n",
        "\n",
        "The data was loaded, but the pixel values are not suitable for learning with a Neural Network. Also, labels have to be in one-hot format.\n",
        "\n",
        "* Divide raw image data in both training and test set by the maximum value\n",
        "\n",
        "* Flatten the images into 1D vectors. Use NumPy's reshape function:\n",
        "    https://docs.scipy.org/doc/numpy/reference/generated/numpy.reshape.html\n",
        "\n",
        "* Convert the raw numeric labels (0..9) to one-hot vectors - Keras has a builtin function to do just that:\n",
        "    https://www.tensorflow.org/api_docs/python/tf/keras/utils/to_categorical\n",
        "    "
      ]
    },
    {
      "cell_type": "code",
      "metadata": {
        "colab": {
          "base_uri": "https://localhost:8080/"
        },
        "id": "VDog3K-BZsDh",
        "outputId": "d1c68f7f-96e7-4b04-bdd6-a5e823462c60"
      },
      "source": [
        "\n",
        "# normalise raw image data by dividing by the maximum value\n",
        "X_train = X_train_raw / 255 # normalise X_train\n",
        "X_test = X_test_raw / 255 # normalise X_test\n",
        "\n",
        "# flatten normalised data into 1D vectors\n",
        "X_train = X_train.reshape(X_train.shape[0], -1)\n",
        "X_test = X_test.reshape(X_test.shape[0], -1)\n",
        "\n",
        "# convert raw labels to one-hot vectors\n",
        "y_train = tf.keras.utils.to_categorical(y_train_raw, num_classes=10) # convert y_train\n",
        "y_test = tf.keras.utils.to_categorical(y_test_raw, num_classes=10) # convert y_test\n",
        "\n",
        "# shuffle training samples (same permutation for X and Y so that labels still correspond)\n",
        "np.random.seed(42) # fix random seed so that everyone has the same dataset permutation\n",
        "permutation = np.random.permutation(X_train.shape[0])\n",
        "X_train = X_train[permutation]\n",
        "y_train = y_train[permutation]\n",
        "\n",
        "# Print shapes and bounds\n",
        "print('### Train set:')\n",
        "print('Sizes:', X_train.shape, y_train.shape)\n",
        "print('Image values (min to max):', np.min(X_train), 'to', np.max(X_train))\n",
        "print('Label values (min to max):', np.min(y_train), 'to', np.max(y_train))\n",
        "print('Total samples per class:', np.sum(y_train, axis=0))\n",
        "\n",
        "print('### Test set:')\n",
        "print('Sizes:', X_test.shape, y_test.shape)\n",
        "print('Image values (min to max):', np.min(X_test), 'to', np.max(X_test))\n",
        "print('Label values (min to max):', np.min(y_test), 'to', np.max(y_test))\n",
        "print('Total samples per class:', np.sum(y_test, axis=0))"
      ],
      "execution_count": 17,
      "outputs": [
        {
          "output_type": "stream",
          "name": "stdout",
          "text": [
            "### Train set:\n",
            "Sizes: (60000, 784) (60000, 10)\n",
            "Image values (min to max): 0.0 to 1.0\n",
            "Label values (min to max): 0.0 to 1.0\n",
            "Total samples per class: [5923. 6742. 5958. 6131. 5842. 5421. 5918. 6265. 5851. 5949.]\n",
            "### Test set:\n",
            "Sizes: (10000, 784) (10000, 10)\n",
            "Image values (min to max): 0.0 to 1.0\n",
            "Label values (min to max): 0.0 to 1.0\n",
            "Total samples per class: [ 980. 1135. 1032. 1010.  982.  892.  958. 1028.  974. 1009.]\n"
          ]
        }
      ]
    },
    {
      "cell_type": "markdown",
      "metadata": {
        "id": "wqmRO_-BZsDj"
      },
      "source": [
        "**Expected output:**\n",
        "\n",
        "\\### Train set:<br>\n",
        "Sizes: (60000, 784) (60000, 10)<br>\n",
        "Image values (min to max): 0.0 to 1.0<br>\n",
        "Label values (min to max): 0.0 to 1.0<br>\n",
        "Total samples per class: [5923. 6742. 5958. 6131. 5842. 5421. 5918. 6265. 5851. 5949.]<br>\n",
        "\\### Test set:<br>\n",
        "Sizes: (10000, 784) (10000, 10)<br>\n",
        "Image values (min to max): 0.0 to 1.0<br>\n",
        "Label values (min to max): 0.0 to 1.0<br>\n",
        "Total samples per class: [ 980. 1135. 1032. 1010.  982.  892.  958. 1028.  974. 1009.]<br>"
      ]
    },
    {
      "cell_type": "markdown",
      "metadata": {
        "id": "eMgJOY1BZsDk"
      },
      "source": [
        "## Plot some samples\n",
        "\n",
        "Change the index to see other samples"
      ]
    },
    {
      "cell_type": "code",
      "metadata": {
        "colab": {
          "base_uri": "https://localhost:8080/",
          "height": 545
        },
        "id": "azSA_aFZZsDl",
        "outputId": "5d1cccfe-35fa-45a9-ee24-be10bda9ecdc"
      },
      "source": [
        "# Just a function to display a sample\n",
        "def display_digit(index, xs, ys, title):\n",
        "    label = np.argmax(ys[index]) # argmax used to convert from one-hot back to numeric label\n",
        "    image = xs[index].reshape([28,28]) # make sure that the data is in 2D shape\n",
        "    plt.title(title+': Index: %d  Label: %d' % (index, label))\n",
        "    plt.imshow(image, cmap=plt.get_cmap('gray'))\n",
        "    plt.show()\n",
        "\n",
        "display_digit(index=0, xs=X_train, ys=y_train, title='Train sample') # display the first training example\n",
        "display_digit(index=0, xs=X_test,  ys=y_test,  title='Test sample')  # display the first test example"
      ],
      "execution_count": 18,
      "outputs": [
        {
          "output_type": "display_data",
          "data": {
            "image/png": "[encoded data removed]",
            "text/plain": [
              "<Figure size 432x288 with 1 Axes>"
            ]
          },
          "metadata": {
            "needs_background": "light"
          }
        },
        {
          "output_type": "display_data",
          "data": {
            "image/png": "[encoded data removed]",
            "text/plain": [
              "<Figure size 432x288 with 1 Axes>"
            ]
          },
          "metadata": {
            "needs_background": "light"
          }
        }
      ]
    },
    {
      "cell_type": "markdown",
      "metadata": {
        "id": "ijA_omFrZsDm"
      },
      "source": [
        "That's right, the classes seem very easy to separate ! Let's prepare to train our algorithm."
      ]
    },
    {
      "cell_type": "markdown",
      "metadata": {
        "id": "Xp80lYoYZsDm"
      },
      "source": [
        "## Define the model\n",
        "\n",
        "We will build a neural network with a single layer:\n",
        "\n",
        "* Use Kera's Dense to create a Fully Connected layer, use 'softmax' activation\n",
        "\n",
        "![](./images/lr_diag.png \"Logistic Regression\")"
      ]
    },
    {
      "cell_type": "code",
      "metadata": {
        "colab": {
          "base_uri": "https://localhost:8080/"
        },
        "id": "Kb9KPK_mZsDm",
        "outputId": "082ce9ba-d6f7-4021-c09c-4f5a051fd727"
      },
      "source": [
        "# get input and output sizes\n",
        "input_dim = X_train.shape[1] # 784\n",
        "output_dim = y_train.shape[1] # 10\n",
        "\n",
        "# Create Sequential model - this allows you to add layers one after the other to build your model\n",
        "model = Sequential()\n",
        "model.add(Dense(output_dim, input_dim=input_dim, activation='softmax'))\n",
        "\n",
        "# Compile model\n",
        "optim = tf.keras.optimizers.SGD(lr=0.01)\n",
        "model.compile(optimizer=optim, loss='categorical_crossentropy', metrics=['accuracy'])"
      ],
      "execution_count": 23,
      "outputs": [
        {
          "output_type": "stream",
          "name": "stderr",
          "text": [
            "/usr/local/lib/python3.7/dist-packages/keras/optimizer_v2/optimizer_v2.py:356: UserWarning: The `lr` argument is deprecated, use `learning_rate` instead.\n",
            "  \"The `lr` argument is deprecated, use `learning_rate` instead.\")\n"
          ]
        }
      ]
    },
    {
      "cell_type": "markdown",
      "metadata": {
        "id": "xe9GQ-IWZsDn"
      },
      "source": [
        "## Train the model\n",
        "\n",
        "> **Note**: Be sure to rerun the previous cell before you train, otherwise previous weights will be kept - i.e. you would just train your model further."
      ]
    },
    {
      "cell_type": "code",
      "metadata": {
        "colab": {
          "base_uri": "https://localhost:8080/"
        },
        "id": "1vcP-nDpZsDn",
        "outputId": "6e26dcfc-40fc-45d7-a44e-d62b85f40f3c"
      },
      "source": [
        "# settings\n",
        "batch_size = 32\n",
        "nb_epoch = 15\n",
        "\n",
        "# train the model and save training history\n",
        "history = model.fit(X_train, y_train,\n",
        "          batch_size=batch_size, \n",
        "          epochs=nb_epoch, \n",
        "          verbose=1, \n",
        "          validation_split=1./6., # set 10K samples (out of 60K) aside for validation\n",
        ")\n",
        "\n",
        "# save model weights to file\n",
        "model.save_weights('mnist_logistic_regression.h5')"
      ],
      "execution_count": 33,
      "outputs": [
        {
          "output_type": "stream",
          "name": "stdout",
          "text": [
            "Epoch 1/15\n",
            "1563/1563 [==============================] - 2s 1ms/step - loss: 0.3081 - accuracy: 0.9140 - val_loss: 0.3168 - val_accuracy: 0.9115\n",
            "Epoch 2/15\n",
            "1563/1563 [==============================] - 2s 1ms/step - loss: 0.3058 - accuracy: 0.9148 - val_loss: 0.3148 - val_accuracy: 0.9125\n",
            "Epoch 3/15\n",
            "1563/1563 [==============================] - 2s 1ms/step - loss: 0.3036 - accuracy: 0.9156 - val_loss: 0.3137 - val_accuracy: 0.9117\n",
            "Epoch 4/15\n",
            "1563/1563 [==============================] - 2s 1ms/step - loss: 0.3017 - accuracy: 0.9151 - val_loss: 0.3118 - val_accuracy: 0.9132\n",
            "Epoch 5/15\n",
            "1563/1563 [==============================] - 2s 1ms/step - loss: 0.2998 - accuracy: 0.9161 - val_loss: 0.3099 - val_accuracy: 0.9140\n",
            "Epoch 6/15\n",
            "1563/1563 [==============================] - 2s 1ms/step - loss: 0.2982 - accuracy: 0.9170 - val_loss: 0.3086 - val_accuracy: 0.9146\n",
            "Epoch 7/15\n",
            "1563/1563 [==============================] - 2s 1ms/step - loss: 0.2967 - accuracy: 0.9168 - val_loss: 0.3078 - val_accuracy: 0.9141\n",
            "Epoch 8/15\n",
            "1563/1563 [==============================] - 2s 1ms/step - loss: 0.2952 - accuracy: 0.9171 - val_loss: 0.3061 - val_accuracy: 0.9153\n",
            "Epoch 9/15\n",
            "1563/1563 [==============================] - 2s 1ms/step - loss: 0.2938 - accuracy: 0.9178 - val_loss: 0.3051 - val_accuracy: 0.9159\n",
            "Epoch 10/15\n",
            "1563/1563 [==============================] - 2s 1ms/step - loss: 0.2925 - accuracy: 0.9186 - val_loss: 0.3042 - val_accuracy: 0.9152\n",
            "Epoch 11/15\n",
            "1563/1563 [==============================] - 2s 1ms/step - loss: 0.2913 - accuracy: 0.9188 - val_loss: 0.3030 - val_accuracy: 0.9157\n",
            "Epoch 12/15\n",
            "1563/1563 [==============================] - 2s 1ms/step - loss: 0.2901 - accuracy: 0.9186 - val_loss: 0.3025 - val_accuracy: 0.9154\n",
            "Epoch 13/15\n",
            "1563/1563 [==============================] - 2s 1ms/step - loss: 0.2889 - accuracy: 0.9193 - val_loss: 0.3021 - val_accuracy: 0.9157\n",
            "Epoch 14/15\n",
            "1563/1563 [==============================] - 2s 1ms/step - loss: 0.2880 - accuracy: 0.9196 - val_loss: 0.3005 - val_accuracy: 0.9164\n",
            "Epoch 15/15\n",
            "1563/1563 [==============================] - 2s 1ms/step - loss: 0.2870 - accuracy: 0.9204 - val_loss: 0.2996 - val_accuracy: 0.9173\n"
          ]
        }
      ]
    },
    {
      "cell_type": "markdown",
      "metadata": {
        "id": "5eb4BtNoZsDo"
      },
      "source": [
        "## Plot training behaviour"
      ]
    },
    {
      "cell_type": "code",
      "metadata": {
        "colab": {
          "base_uri": "https://localhost:8080/",
          "height": 334
        },
        "id": "8CRyZMxXZsDo",
        "outputId": "e52024ba-f53a-4464-b040-d5424aaf0008"
      },
      "source": [
        "# summarize history for loss and accuracy\n",
        "\n",
        "fig, (ax1, ax2) = plt.subplots(1, 2, figsize=(20,5))\n",
        "\n",
        "ax1.plot(history.history['loss'])\n",
        "ax1.plot(history.history['val_loss'])\n",
        "ax1.set_ylabel('loss')\n",
        "ax1.set_xlabel('epoch')\n",
        "ax1.legend(['training', 'validation'], loc='upper right')\n",
        "ax1.yaxis.grid()\n",
        "\n",
        "ax2.plot(history.history['accuracy'])\n",
        "ax2.plot(history.history['val_accuracy'])\n",
        "ax2.set_ylabel('accuracy')\n",
        "ax2.set_xlabel('epoch')\n",
        "ax2.legend(['training', 'validation'], loc='upper left')\n",
        "ax2.yaxis.grid()\n",
        "\n",
        "plt.show()"
      ],
      "execution_count": 27,
      "outputs": [
        {
          "output_type": "display_data",
          "data": {
            "image/png": "[encoded data removed]",
            "text/plain": [
              "<Figure size 1440x360 with 2 Axes>"
            ]
          },
          "metadata": {
            "needs_background": "light"
          }
        }
      ]
    },
    {
      "cell_type": "markdown",
      "metadata": {
        "id": "S7pP1XxFZsDp"
      },
      "source": [
        "## Evaluate the model on the test set"
      ]
    },
    {
      "cell_type": "code",
      "metadata": {
        "colab": {
          "base_uri": "https://localhost:8080/"
        },
        "id": "Tozksa9-ZsDp",
        "outputId": "23396011-c051-44e2-96e1-2b53d202b2bc"
      },
      "source": [
        "# load model weights from file\n",
        "model.load_weights('mnist_logistic_regression.h5')\n",
        "\n",
        "score = model.evaluate(X_test, y_test, verbose=0)\n",
        "print('Test loss:', score[0])\n",
        "print('Test accuracy:', score[1])"
      ],
      "execution_count": 32,
      "outputs": [
        {
          "output_type": "stream",
          "name": "stdout",
          "text": [
            "Test loss: 0.3000870943069458\n",
            "Test accuracy: 0.9164999723434448\n"
          ]
        }
      ]
    },
    {
      "cell_type": "markdown",
      "metadata": {
        "id": "v803S-wfZsDp"
      },
      "source": [
        "You should have obtained a value of around 0.91-0.92 (which means 91%-92% test accuracy). Congratulations !"
      ]
    },
    {
      "cell_type": "markdown",
      "metadata": {
        "id": "teO7yvuhZsDq"
      },
      "source": [
        "## Try the following\n",
        "\n",
        "1) Change the learning rate (e.g. 0.0001, 0.001, 0.01, 0.1) and observe the training curves\n",
        "\n",
        "2) Add Momentum to the SGD optimizer (https://keras.io/optimizers/) and observe the accuracy\n",
        "\n",
        "3) Change the batch size (e.g. 8, 16, 32, 64, 128, 256) and see what happens (time per epoch, accuracy, etc)\n",
        "\n",
        "4) Try a different optimizer altogether (e.g. Adam) (https://keras.io/optimizers/)\n",
        "\n",
        "5) Try adding shuffling during training (https://keras.io/models/sequential/)\n",
        "\n",
        "6) Share your best results !"
      ]
    }
  ]
}